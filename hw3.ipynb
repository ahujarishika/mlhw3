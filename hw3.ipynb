{
  "nbformat": 4,
  "nbformat_minor": 0,
  "metadata": {
    "colab": {
      "provenance": []
    },
    "kernelspec": {
      "name": "python3",
      "display_name": "Python 3"
    },
    "language_info": {
      "name": "python"
    }
  },
  "cells": [
    {
      "cell_type": "code",
      "execution_count": null,
      "metadata": {
        "colab": {
          "base_uri": "https://localhost:8080/"
        },
        "id": "EGGS8aE0Gdvl",
        "outputId": "6adcd5cf-8f94-4a20-aec6-32728d9d2117"
      },
      "outputs": [
        {
          "output_type": "stream",
          "name": "stdout",
          "text": [
            "1  &  0.825  &  0.6545  &  0.8175  \\\\\n",
            "2  &  0.853  &  0.6857  &  0.8664  \\\\\n",
            "3  &  0.862  &  0.7212  &  0.838  \\\\\n",
            "4  &  0.851  &  0.7164  &  0.8163  \\\\\n",
            "5  &  0.775  &  0.6057  &  0.7582  \\\\\n",
            "it: 100 delta: 0.0006006485111605953 cur_loss: 0.5566057786358978\n",
            "it: 200 delta: 0.0003113181331784176 cur_loss: 0.5141790761987086\n",
            "it: 300 delta: 0.00020890544374085884 cur_loss: 0.48889427839111627\n",
            "it: 400 delta: 0.00015729360154126404 cur_loss: 0.4708559439560223\n",
            "it: 500 delta: 0.00012628604831277368 cur_loss: 0.4568073754598347\n",
            "it: 600 delta: 0.00010559544425842171 cur_loss: 0.4452862606554421\n",
            "1  &  0.867  &  0.8276  &  0.6737  \\\\\n",
            "it: 100 delta: 0.0006057785413003947 cur_loss: 0.5546024624222278\n",
            "it: 200 delta: 0.0003131958817426117 cur_loss: 0.5118857006235257\n",
            "it: 300 delta: 0.00021041333899163295 cur_loss: 0.48643703216585\n",
            "it: 400 delta: 0.00015872689748486213 cur_loss: 0.4682527197048019\n"
          ]
        }
      ],
      "source": [
        "import pandas as pd\n",
        "import numpy as np\n",
        "import matplotlib.pyplot as plt\n",
        "from sklearn.neighbors import KNeighborsClassifier as knn\n",
        "from sklearn.metrics import confusion_matrix, log_loss, roc_curve\n",
        "\n",
        "data = pd.read_csv(\"emails.csv\")\n",
        "X = data.iloc[:, 1:3001]\n",
        "y = data.Prediction\n",
        "\n",
        "def knn_cv(k, fold, X=X, y=y):\n",
        "    start = (fold - 1) * 1000\n",
        "    stop = (fold * 1000)\n",
        "    X_train = X.drop(range(start, stop), axis=0)\n",
        "    y_train = y.drop(range(start, stop), axis=0)\n",
        "    X_test = X.iloc[start:stop, :]\n",
        "    y_test = y.iloc[start:stop]\n",
        "    model = knn(n_neighbors=k)\n",
        "    model.fit(X_train, y_train)\n",
        "    predictions = model.predict(X_test)\n",
        "    tn, fp, fn, tp = confusion_matrix(y_test, predictions).ravel()\n",
        "    accuracy = (tp + tn) / (tp + fp + tn + fn)\n",
        "    precision = tp / (tp + fp)\n",
        "    recall = tp / (tp + fn)\n",
        "    print(fold, \" & \", round(accuracy, 4), \" & \", round(precision, 4), \" & \", round(recall, 4), \" \\\\\\\\\")\n",
        "    return(accuracy)\n",
        "\n",
        "def sigma(z):\n",
        "    return(1 / (1 + np.exp(-z)))\n",
        "\n",
        "def cross_entropy_loss(theta, X, y):\n",
        "    return(-np.inner(y, np.log(sigma(X.dot(theta)))) - np.inner((1 - y), np.log(1 - sigma(X.dot(theta)))))\n",
        "\n",
        "def log_reg(X, y, step_size, max_it=100, stop_delta=10**-4):\n",
        "    p = len(X.iloc[0, ])\n",
        "    n = len(y)\n",
        "    theta = np.zeros(p)\n",
        "    it = 1\n",
        "    loss_old = log_loss(y, sigma(X.dot(theta)))\n",
        "    delta = stop_delta\n",
        "    while (it <= max_it) & (delta >= stop_delta):\n",
        "        theta_old = theta\n",
        "        theta = theta_old - step_size * np.sum((X.T * (sigma(X.dot(theta_old)) - y)).T, axis = 0) / n\n",
        "        loss = log_loss(y, sigma(X.dot(theta)))\n",
        "        delta = abs(loss_old - loss)\n",
        "        loss_old = loss\n",
        "        if it % 100 == 0:\n",
        "            print(\"it:\", it, \"delta:\", delta, \"cur_loss:\", loss)\n",
        "        it += 1\n",
        "    return(theta)\n",
        "\n",
        "def cv_log_reg(fold, X, y, step_size, max_it=100, stop_delta=10**-4):\n",
        "    start = (fold - 1) * 1000\n",
        "    stop = (fold * 1000)\n",
        "    X_train = X.drop(range(start, stop), axis=0)\n",
        "    y_train = y.drop(range(start, stop), axis=0)\n",
        "    X_test = X.iloc[start:stop, :]\n",
        "    y_test = y.iloc[start:stop]\n",
        "    theta = log_reg(X_train, y_train, step_size, max_it=max_it, stop_delta=stop_delta)\n",
        "    probs = sigma(X_test.dot(theta))\n",
        "    predictions = [1 if x >= .5 else 0 for x in probs]\n",
        "    tn, fp, fn, tp = confusion_matrix(y_test, predictions).ravel()\n",
        "    accuracy = (tp + tn) / (tp + fp + tn + fn)\n",
        "    precision = tp / (tp + fp)\n",
        "    recall = tp / (tp + fn)\n",
        "    print(fold, \" & \", round(accuracy, 4), \" & \", round(precision, 4), \" & \", round(recall, 4), \" \\\\\\\\\")\n",
        "\n",
        "\n",
        "if __name__ == '__main__':\n",
        "    for i in range(1, 6):\n",
        "        knn_cv(1, i)\n",
        "\n",
        "    for i in range(1, 6):\n",
        "        cv_log_reg(i, X, y, .0001, max_it=1000)\n",
        "\n",
        "    k = [1, 3, 5, 7, 10]\n",
        "    folds = [1, 2, 3, 4, 5]\n",
        "    avg_acc = []\n",
        "    for i in k:\n",
        "        a = [knn_cv(i, x) for x in folds]\n",
        "        print(i, \"&\", round(sum(a) / 5, 4), \"\\\\\\\\\")\n",
        "        avg_acc.append(sum(a) / 5)\n",
        "\n",
        "    plt.plot(k, avg_acc)\n",
        "    plt.scatter(k, avg_acc)\n",
        "    plt.title(\"kNN 5-Fold CV\")\n",
        "    plt.xlabel(\"k\")\n",
        "    plt.ylabel(\"Average Accuracy\")\n",
        "    plt.savefig(\"kNN_CV.png\")\n",
        "    pass"
      ]
    },
    {
      "cell_type": "code",
      "source": [
        "X_train = X.iloc[0:4000, ]\n",
        "y_train = y.iloc[0:4000, ]\n",
        "X_test = X.iloc[4000:5000, ]\n",
        "y_test = y.iloc[4000:5000, ]\n",
        "knn5= knn(n_neighbors=5)\n",
        "knn5.fit(X_train, y_train)\n",
        "knn_probs = knn5.predict_proba(X_test)\n",
        "knn_pred = [i[1] for i in knn_probs]\n",
        "fpr_knn, tpr_knn, thresh_knn = roc_curve(y_test, knn_pred)\n",
        "log_reg_coef = log_reg(X_train, y_train, .0001, max_it=1000)\n",
        "log_reg_pred = sigma(X_test.dot(log_reg_coef))\n",
        "fpr_log_reg, tpr_log_reg, thresh_log_reg = roc_curve(y_test, log_reg_pred)\n",
        "plt.plot(fpr_knn, tpr_knn)\n",
        "plt.plot(fpr_log_reg, tpr_log_reg)\n",
        "plt.xlabel(\"False Positive Rate\")\n",
        "plt.ylabel(\"True Positive Rate\")\n",
        "plt.savefig(\"spam_roc.png\")"
      ],
      "metadata": {
        "colab": {
          "base_uri": "https://localhost:8080/",
          "height": 553
        },
        "id": "uYbCLVayKLVi",
        "outputId": "b2223c1f-80e5-4593-a0cf-8641b7722684"
      },
      "execution_count": 3,
      "outputs": [
        {
          "output_type": "stream",
          "name": "stdout",
          "text": [
            "it: 100 delta: 0.0006349423659792741 cur_loss: 0.5425483973231146\n",
            "it: 200 delta: 0.00032538421142003227 cur_loss: 0.49794559487943874\n",
            "it: 300 delta: 0.0002165618235511757 cur_loss: 0.47162420199826943\n",
            "it: 400 delta: 0.00016191335600046486 cur_loss: 0.45298911154682103\n",
            "it: 500 delta: 0.00012913302562306272 cur_loss: 0.4385748760312896\n",
            "it: 600 delta: 0.00010727879974625765 cur_loss: 0.4268315880381757\n"
          ]
        },
        {
          "output_type": "display_data",
          "data": {
            "text/plain": [
              "<Figure size 640x480 with 1 Axes>"
            ],
            "image/png": "[encoded data removed]"
          },
          "metadata": {}
        }
      ]
    }
  ]
}